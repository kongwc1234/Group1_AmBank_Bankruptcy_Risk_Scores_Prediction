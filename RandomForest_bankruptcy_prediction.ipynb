{
 "cells": [
  {
   "cell_type": "code",
   "execution_count": 34,
   "id": "c35da7e6",
   "metadata": {},
   "outputs": [
    {
     "name": "stderr",
     "output_type": "stream",
     "text": [
      "D:\\AnacondaNew\\lib\\site-packages\\sklearn\\base.py:450: UserWarning: X does not have valid feature names, but RandomForestClassifier was fitted with feature names\n",
      "  warnings.warn(\n"
     ]
    },
    {
     "data": {
      "text/plain": [
       "array([1, 0], dtype=int64)"
      ]
     },
     "execution_count": 34,
     "metadata": {},
     "output_type": "execute_result"
    }
   ],
   "source": [
    "import pandas as pd\n",
    "from sklearn.ensemble import RandomForestClassifier\n",
    "import joblib\n",
    "from sklearn import tree\n",
    "\n",
    "data =pd.read_csv('D:\\DegreeINTI\\Sem2\\Data Science\\PythonJupitor\\data.csv')\n",
    "X=data.filter([' Operating Gross Margin',' Operating Profit Rate', \n",
    "               ' Continuous interest rate (after tax)', \n",
    "               ' Operating Expense Rate', ' Cash flow rate', \n",
    "               ' Gross Profit to Sales',' Continuous Net Profit Growth Rate',\n",
    "               ' Net worth/Assets',' Cash Turnover Rate', \n",
    "               ' Current Liability to Current Assets']).fillna(0)\n",
    "y= data['Bankrupt?']\n",
    "\n",
    "X\n",
    "model =RandomForestClassifier()\n",
    "model.fit(X,y)\n",
    "\n",
    "predictions=model.predict([[0.601457213, 0.998969203, \n",
    "                            0.78098485, 0.000125697, 0.458143144,\n",
    "                            0.60145329, 0.217535386, 0.792423739,\n",
    "                            0.0000000458,14730845], \n",
    "                           [0.627409,0.998080,0.786079,0.001431695,0.427721,\n",
    "                            0.627408,0.217605,0.985851,0.009505992,0.005579]])\n",
    "predictions"
   ]
  },
  {
   "cell_type": "code",
   "execution_count": 33,
   "id": "f40099de",
   "metadata": {
    "scrolled": false
   },
   "outputs": [
    {
     "data": {
      "text/plain": [
       "0.967741935483871"
      ]
     },
     "execution_count": 33,
     "metadata": {},
     "output_type": "execute_result"
    }
   ],
   "source": [
    "import pandas as pd\n",
    "from sklearn.ensemble import RandomForestClassifier\n",
    "from sklearn.model_selection import train_test_split\n",
    "from sklearn.metrics import accuracy_score\n",
    "\n",
    "data =pd.read_csv('D:\\DegreeINTI\\Sem2\\Data Science\\PythonJupitor\\data.csv')\n",
    " \n",
    "X=data.filter([' Operating Gross Margin',' Operating Profit Rate', \n",
    "               ' Continuous interest rate (after tax)', \n",
    "               ' Operating Expense Rate', ' Cash flow rate', \n",
    "               ' Gross Profit to Sales',' Continuous Net Profit Growth Rate',\n",
    "               ' Net worth/Assets',' Cash Turnover Rate', \n",
    "               ' Current Liability to Current Assets']).fillna(0)\n",
    "y= data['Bankrupt?']\n",
    "X_train, X_test, y_train, y_test = train_test_split(X, y, test_size=0.2)\n",
    "\n",
    "model =RandomForestClassifier(max_depth=2, random_state=0)\n",
    "model.fit(X,y)\n",
    "\n",
    "predictions=model.predict(X_test)\n",
    "\n",
    "score=accuracy_score(y_test, predictions)\n",
    "score"
   ]
  },
  {
   "cell_type": "code",
   "execution_count": 24,
   "id": "a6d810c2",
   "metadata": {},
   "outputs": [
    {
     "data": {
      "text/html": [
       "<div>\n",
       "<style scoped>\n",
       "    .dataframe tbody tr th:only-of-type {\n",
       "        vertical-align: middle;\n",
       "    }\n",
       "\n",
       "    .dataframe tbody tr th {\n",
       "        vertical-align: top;\n",
       "    }\n",
       "\n",
       "    .dataframe thead th {\n",
       "        text-align: right;\n",
       "    }\n",
       "</style>\n",
       "<table border=\"1\" class=\"dataframe\">\n",
       "  <thead>\n",
       "    <tr style=\"text-align: right;\">\n",
       "      <th></th>\n",
       "      <th>Operating Gross Margin</th>\n",
       "      <th>Operating Profit Rate</th>\n",
       "      <th>Continuous interest rate (after tax)</th>\n",
       "      <th>Operating Expense Rate</th>\n",
       "      <th>Cash flow rate</th>\n",
       "      <th>Gross Profit to Sales</th>\n",
       "      <th>Continuous Net Profit Growth Rate</th>\n",
       "      <th>Net worth/Assets</th>\n",
       "      <th>Cash Turnover Rate</th>\n",
       "      <th>Current Liability to Current Assets</th>\n",
       "    </tr>\n",
       "  </thead>\n",
       "  <tbody>\n",
       "    <tr>\n",
       "      <th>0</th>\n",
       "      <td>0.601457</td>\n",
       "      <td>0.998969</td>\n",
       "      <td>0.780985</td>\n",
       "      <td>1.256969e-04</td>\n",
       "      <td>0.458143</td>\n",
       "      <td>0.601453</td>\n",
       "      <td>0.217535</td>\n",
       "      <td>0.792424</td>\n",
       "      <td>4.580000e+08</td>\n",
       "      <td>0.118250</td>\n",
       "    </tr>\n",
       "    <tr>\n",
       "      <th>1</th>\n",
       "      <td>0.610235</td>\n",
       "      <td>0.998946</td>\n",
       "      <td>0.781506</td>\n",
       "      <td>2.897851e-04</td>\n",
       "      <td>0.461867</td>\n",
       "      <td>0.610237</td>\n",
       "      <td>0.217620</td>\n",
       "      <td>0.828824</td>\n",
       "      <td>2.490000e+09</td>\n",
       "      <td>0.047775</td>\n",
       "    </tr>\n",
       "    <tr>\n",
       "      <th>2</th>\n",
       "      <td>0.601450</td>\n",
       "      <td>0.998857</td>\n",
       "      <td>0.780284</td>\n",
       "      <td>2.361297e-04</td>\n",
       "      <td>0.458521</td>\n",
       "      <td>0.601449</td>\n",
       "      <td>0.217601</td>\n",
       "      <td>0.792484</td>\n",
       "      <td>7.610000e+08</td>\n",
       "      <td>0.025346</td>\n",
       "    </tr>\n",
       "    <tr>\n",
       "      <th>3</th>\n",
       "      <td>0.583541</td>\n",
       "      <td>0.998700</td>\n",
       "      <td>0.781241</td>\n",
       "      <td>1.078888e-04</td>\n",
       "      <td>0.465705</td>\n",
       "      <td>0.583538</td>\n",
       "      <td>0.217568</td>\n",
       "      <td>0.848535</td>\n",
       "      <td>2.030000e+09</td>\n",
       "      <td>0.067250</td>\n",
       "    </tr>\n",
       "    <tr>\n",
       "      <th>4</th>\n",
       "      <td>0.598783</td>\n",
       "      <td>0.998973</td>\n",
       "      <td>0.781550</td>\n",
       "      <td>7.890000e+09</td>\n",
       "      <td>0.462746</td>\n",
       "      <td>0.598782</td>\n",
       "      <td>0.217626</td>\n",
       "      <td>0.893491</td>\n",
       "      <td>8.240000e+08</td>\n",
       "      <td>0.047725</td>\n",
       "    </tr>\n",
       "  </tbody>\n",
       "</table>\n",
       "</div>"
      ],
      "text/plain": [
       "    Operating Gross Margin   Operating Profit Rate  \\\n",
       "0                 0.601457                0.998969   \n",
       "1                 0.610235                0.998946   \n",
       "2                 0.601450                0.998857   \n",
       "3                 0.583541                0.998700   \n",
       "4                 0.598783                0.998973   \n",
       "\n",
       "    Continuous interest rate (after tax)   Operating Expense Rate  \\\n",
       "0                               0.780985             1.256969e-04   \n",
       "1                               0.781506             2.897851e-04   \n",
       "2                               0.780284             2.361297e-04   \n",
       "3                               0.781241             1.078888e-04   \n",
       "4                               0.781550             7.890000e+09   \n",
       "\n",
       "    Cash flow rate   Gross Profit to Sales  \\\n",
       "0         0.458143                0.601453   \n",
       "1         0.461867                0.610237   \n",
       "2         0.458521                0.601449   \n",
       "3         0.465705                0.583538   \n",
       "4         0.462746                0.598782   \n",
       "\n",
       "    Continuous Net Profit Growth Rate   Net worth/Assets   Cash Turnover Rate  \\\n",
       "0                            0.217535           0.792424         4.580000e+08   \n",
       "1                            0.217620           0.828824         2.490000e+09   \n",
       "2                            0.217601           0.792484         7.610000e+08   \n",
       "3                            0.217568           0.848535         2.030000e+09   \n",
       "4                            0.217626           0.893491         8.240000e+08   \n",
       "\n",
       "    Current Liability to Current Assets  \n",
       "0                              0.118250  \n",
       "1                              0.047775  \n",
       "2                              0.025346  \n",
       "3                              0.067250  \n",
       "4                              0.047725  "
      ]
     },
     "execution_count": 24,
     "metadata": {},
     "output_type": "execute_result"
    }
   ],
   "source": [
    "X.head()\n",
    "#X.isnull().sum()"
   ]
  },
  {
   "cell_type": "code",
   "execution_count": null,
   "id": "df4dfd93",
   "metadata": {},
   "outputs": [],
   "source": []
  }
 ],
 "metadata": {
  "kernelspec": {
   "display_name": "Python 3 (ipykernel)",
   "language": "python",
   "name": "python3"
  },
  "language_info": {
   "codemirror_mode": {
    "name": "ipython",
    "version": 3
   },
   "file_extension": ".py",
   "mimetype": "text/x-python",
   "name": "python",
   "nbconvert_exporter": "python",
   "pygments_lexer": "ipython3",
   "version": "3.9.12"
  }
 },
 "nbformat": 4,
 "nbformat_minor": 5
}
